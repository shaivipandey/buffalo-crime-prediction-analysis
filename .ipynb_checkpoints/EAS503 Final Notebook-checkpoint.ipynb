{
 "cells": [
  {
   "cell_type": "code",
<<<<<<< HEAD
   "execution_count": 34,
   "id": "f9e20d99",
=======
   "execution_count": 2,
   "id": "5e03fc2f",
>>>>>>> a894e1ff4d682209d2c5dff55d309c7e0d4964ca
   "metadata": {},
   "outputs": [],
   "source": [
    "import pandas as pd\n",
    "import sqlite3\n",
    "from sqlite3 import Error"
   ]
  },
  {
   "cell_type": "code",
   "execution_count": null,
<<<<<<< HEAD
   "id": "5a4d3dfd",
   "metadata": {},
   "outputs": [],
   "source": [
    "'''\n",
    "CREATE NON-NORMALIZED DB\n",
    "'''\n",
    "\n",
    "non_normalized_db_filename='non_normalized_crime'\n",
    "non_normalized_conn=create_connection(non_normalized_db_filename)\n",
    "\n",
=======
   "id": "c84102c6",
   "metadata": {},
   "outputs": [],
   "source": [
    "def create_connection(db_file, delete_db=False):\n",
    "    import os\n",
    "    if delete_db and os.path.exists(db_file):\n",
    "        os.remove(db_file)\n",
    "\n",
    "    conn = None\n",
    "    try:\n",
    "        conn = sqlite3.connect(db_file)\n",
    "        conn.execute(\"PRAGMA foreign_keys = 1\")\n",
    "    except Error as e:\n",
    "        print(e)\n",
    "\n",
    "    return conn\n",
    "\n",
>>>>>>> a894e1ff4d682209d2c5dff55d309c7e0d4964ca
    "\n",
    "def create_table(conn, create_table_sql, drop_table_name=None):\n",
    "    \n",
    "    if drop_table_name: # You can optionally pass drop_table_name to drop the table. \n",
    "        try:\n",
    "            c = conn.cursor()\n",
    "            c.execute(\"\"\"DROP TABLE IF EXISTS %s\"\"\" % (drop_table_name))\n",
    "        except Error as e:\n",
    "            print(e)\n",
    "    \n",
    "    try:\n",
    "        c = conn.cursor()\n",
    "        c.execute(create_table_sql)\n",
    "    except Error as e:\n",
    "        print(e)\n",
    "        \n",
    "def execute_sql_statement(sql_statement, conn):\n",
    "    cur = conn.cursor()\n",
    "    cur.execute(sql_statement)\n",
    "\n",
<<<<<<< HEAD
    "create_table_sql='CREATE TABLE IF NOT EXISTS'\n"
   ]
  },
  {
   "cell_type": "code",
   "execution_count": 44,
   "id": "3c1092dc",
   "metadata": {},
   "outputs": [
    {
     "data": {
      "text/plain": [
       "\"\\npath='../Crime_Incidents.csv'\\nwith open(path,'r') as f:\\n    next(f)\\n    for line in f:\\n        print(line)\\n\""
      ]
     },
     "execution_count": 44,
     "metadata": {},
     "output_type": "execute_result"
    }
   ],
   "source": [
    "# load data\n",
    "'''\n",
    "path='../Crime_Incidents.csv'\n",
    "with open(path,'r') as f:\n",
    "    next(f)\n",
    "    for line in f:\n",
    "        print(line)\n",
    "'''"
=======
    "    rows = cur.fetchall()\n",
    "\n",
    "    return rows"
>>>>>>> a894e1ff4d682209d2c5dff55d309c7e0d4964ca
   ]
  },
  {
   "cell_type": "code",
<<<<<<< HEAD
   "execution_count": 39,
   "id": "6dee8f3e",
   "metadata": {},
   "outputs": [],
   "source": [
    "df=pd.read_csv(path)"
   ]
  },
  {
   "cell_type": "code",
   "execution_count": 40,
   "id": "68dfedc2",
   "metadata": {},
   "outputs": [
    {
     "data": {
      "text/plain": [
       "array(['UNKNOWN', '10', nan, '167', '163', '49.02', '165', '71.02',\n",
       "       '28.01', '44.02', '56', '14.03', '65.01', '63.01', '47.01', '59',\n",
       "       '170', '6', '67.01', '47.02', '51', '55', '61', '68.02', '33.01',\n",
       "       '52.01', '69.03', '46.01', '67.02', '40.02', '169', '57', '38',\n",
       "       '53', '58.02', '168.02', '19', '40.03', '43', '33.02', '16.01',\n",
       "       '68.01', '24', '1.10', '34', '39.01', '37', '16.02', '27.04', '2',\n",
       "       '41', '29', '42', '35.01', '30', '171', '27.03', '23', '48', '17',\n",
       "       '71.03', '66.01', '50', '164', '36', '44.01', '166', '35.02',\n",
       "       '49.01', '69.01', '58.01', '28.02', '69.04', '25.02', '71.04',\n",
       "       '66.02', '63.02', '54', '31', '45', '15', '11', '168.01', '8',\n",
       "       '70', '7', '52.02', '72.02', '14.04', '5', '9800', '9', '9805'],\n",
       "      dtype=object)"
      ]
     },
     "execution_count": 40,
     "metadata": {},
     "output_type": "execute_result"
    }
   ],
   "source": [
    "pd.unique(df['Census Tract'])"
   ]
  },
  {
   "cell_type": "code",
   "execution_count": 41,
   "id": "86e7072e",
   "metadata": {
    "scrolled": true
   },
   "outputs": [
    {
     "data": {
      "text/plain": [
       "Index(['Case Number', 'Incident Datetime', 'Incident ID',\n",
       "       'Incident Type Primary', 'Incident Description', 'Parent Incident Type',\n",
       "       'Hour of Day', 'Day of Week', 'Address', 'City', 'State', 'Location',\n",
       "       'Latitude', 'Longitude', 'Created At', 'updated_at',\n",
       "       '2010 Census Tract ', '2010 Census Block Group', '2010 Census Block',\n",
       "       'Census Tract', 'Census Block', 'Census Block Group', 'neighborhood',\n",
       "       'Police District', 'TRACTCE20', 'GEOID20_tract', 'GEOID20_blockgroup',\n",
       "       'GEOID20_block', 'zip_code', 'COUNCIL DISTRICT 2011',\n",
       "       'COUNCIL DISTRICT 2024'],\n",
       "      dtype='object')"
      ]
     },
     "execution_count": 41,
     "metadata": {},
     "output_type": "execute_result"
    }
   ],
   "source": [
    "df.columns"
   ]
  },
  {
   "cell_type": "code",
   "execution_count": 42,
   "id": "85e6c640",
=======
   "execution_count": null,
   "id": "4bf2abb1",
   "metadata": {},
   "outputs": [],
   "source": []
  },
  {
   "cell_type": "code",
   "execution_count": null,
   "id": "4e103761",
>>>>>>> a894e1ff4d682209d2c5dff55d309c7e0d4964ca
   "metadata": {},
   "outputs": [],
   "source": []
  },
  {
   "cell_type": "code",
<<<<<<< HEAD
   "execution_count": 43,
   "id": "fae35473",
=======
   "execution_count": null,
   "id": "ebef857d",
>>>>>>> a894e1ff4d682209d2c5dff55d309c7e0d4964ca
   "metadata": {},
   "outputs": [],
   "source": []
  },
  {
   "cell_type": "code",
   "execution_count": null,
<<<<<<< HEAD
   "id": "87430def",
=======
   "id": "663d47f7",
>>>>>>> a894e1ff4d682209d2c5dff55d309c7e0d4964ca
   "metadata": {},
   "outputs": [],
   "source": []
  }
 ],
 "metadata": {
  "kernelspec": {
   "display_name": "Python 3 (ipykernel)",
   "language": "python",
   "name": "python3"
  },
  "language_info": {
   "codemirror_mode": {
    "name": "ipython",
    "version": 3
   },
   "file_extension": ".py",
   "mimetype": "text/x-python",
   "name": "python",
   "nbconvert_exporter": "python",
   "pygments_lexer": "ipython3",
   "version": "3.11.4"
  }
 },
 "nbformat": 4,
 "nbformat_minor": 5
}
