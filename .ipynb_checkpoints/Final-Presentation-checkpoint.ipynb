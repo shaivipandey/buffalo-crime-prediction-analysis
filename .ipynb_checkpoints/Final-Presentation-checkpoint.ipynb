{
 "cells": [
  {
   "cell_type": "markdown",
   "id": "8dfcac26",
   "metadata": {},
   "source": [
    "# EAS503 Final Presentation\n",
    "#### Presented by Sean Grzenda, Nicholas Cruz, Shaivi Pandey, and Vidya Lakshmi Ramani \n"
   ]
  },
  {
   "cell_type": "markdown",
   "id": "23be9c00",
   "metadata": {},
   "source": [
    "## Buffalo Crime Incidents Dataset\n",
    "We will be working with the City of Buffalo's [Crime Incident Dataset](https://data.buffalony.gov/Public-Safety/Crime-Incidents/d6g9-xbgu/about_data), provided by the Buffalo Police Department in CSV format. This dataset gets updated daily and contains crime reports dating back to 1914. \n",
    "\n",
    "Our goal is to create and explore a model that predicts the type of crime based on location and time features from 2023. An effective model will allow us to determine which crimes are most popular in a given area at a given time. When used responsibly and ethically, these models can guide decisions related to crime prevention, safety awareness, and resource allocation."
   ]
  },
  {
   "cell_type": "markdown",
   "id": "755c91c6",
   "metadata": {},
   "source": [
    "## Database Normalization\n",
    "- Load the CSV data into a non-normalized database. \n",
    "- Normalize database to Third Normal Form. \n",
    "- Main normalized table is **Incidents**, which contains the incident ID followed by foreign keys to relevant columns in other tables.\n",
    "\n",
    "### Non-Normalized Database\n",
    "In this step, we parse through each line in the CSV file and insert all completely non-null rows into the **Incidents** table. This table contains the following columns:\n",
    "\n",
    "`Incident_ID`: Unique ID number of incident\n",
    "\n",
    "`Incident_Datetime`: Exact timestamp\n",
    "\n",
    "`Incident_Type`: Type of incident\n",
    "\n",
    "`Incident_Hour`: Hour of the day\n",
    "\n",
    "`Incident_Day`: Day of the week\n",
    "\n",
    "`Location`: Latitude and longitude\n",
    "\n",
    "`Neighborhood`: Neighborhood of incident\n",
    "\n",
    "`ZIP_Code`: ZIP code of incident"
   ]
  },
  {
   "cell_type": "code",
   "execution_count": 1,
   "id": "dd56559b",
   "metadata": {},
   "outputs": [],
   "source": [
    "%run create_non_normalized.py"
   ]
  },
  {
   "cell_type": "markdown",
   "id": "2c840de3",
   "metadata": {},
   "source": [
    "### Normalized Database\n",
    "In this step, we normalize the database to Third Normal Form. This form is achieved by decomposing the non-normalized **Incidents** table into smaller tables:\n",
    "\n",
    "- **Incident_Type.** This table contains the primary key `Incident_Type`, listing all unique incident types.\n",
    "- **ZIP_Code.** This table contains primary key `Zip_Code`, listing all unique ZIP codes.\n",
    "- **Neighborhood.** This table contains the primary key `Neighborhood`, listing all unique neighborhood names.\n",
    "- **Location.** This table contains the primary key `Location_ID`, which maps to `Latitude`, `Longitude`, and foreign key `ZIP_Code`.\n",
    "- **Incidents.** This table contains primary key `Incident_ID`, a timestamp `Datetime`, foreign key `Incident_Type`, foreign key `Location_ID`, and foreign key `Neighborhood`."
   ]
  },
  {
   "cell_type": "code",
   "execution_count": 2,
   "id": "c22695b4",
   "metadata": {},
   "outputs": [],
   "source": [
    "%run database_main.py"
   ]
  },
  {
   "cell_type": "markdown",
   "id": "ecd946da",
   "metadata": {},
   "source": [
    "## Creating Dataframe from Database"
   ]
  },
  {
   "cell_type": "code",
   "execution_count": 96,
   "id": "da78943c",
   "metadata": {},
   "outputs": [],
   "source": [
    "import pandas as pd\n",
    "import numpy as np\n",
    "import sqlite3\n",
    "\n",
    "from sklearn.ensemble import RandomForestClassifier\n",
    "from sklearn.model_selection import train_test_split,cross_val_score\n",
    "from sklearn.preprocessing import StandardScaler\n",
    "from sklearn.metrics import confusion_matrix,ConfusionMatrixDisplay,precision_recall_fscore_support,classification_report"
   ]
  },
  {
   "cell_type": "code",
   "execution_count": 6,
   "id": "7a75c6a4",
   "metadata": {},
   "outputs": [
    {
     "data": {
      "text/html": [
       "<div>\n",
       "<style scoped>\n",
       "    .dataframe tbody tr th:only-of-type {\n",
       "        vertical-align: middle;\n",
       "    }\n",
       "\n",
       "    .dataframe tbody tr th {\n",
       "        vertical-align: top;\n",
       "    }\n",
       "\n",
       "    .dataframe thead th {\n",
       "        text-align: right;\n",
       "    }\n",
       "</style>\n",
       "<table border=\"1\" class=\"dataframe\">\n",
       "  <thead>\n",
       "    <tr style=\"text-align: right;\">\n",
       "      <th></th>\n",
       "      <th>Year</th>\n",
       "      <th>Month</th>\n",
       "      <th>Day</th>\n",
       "      <th>WeekDay</th>\n",
       "      <th>Hour</th>\n",
       "      <th>Neighborhood</th>\n",
       "      <th>Latitude</th>\n",
       "      <th>Longitude</th>\n",
       "      <th>Zip_Code</th>\n",
       "      <th>Incident_Type</th>\n",
       "    </tr>\n",
       "  </thead>\n",
       "  <tbody>\n",
       "    <tr>\n",
       "      <th>0</th>\n",
       "      <td>2010</td>\n",
       "      <td>12</td>\n",
       "      <td>31</td>\n",
       "      <td>5</td>\n",
       "      <td>17</td>\n",
       "      <td>Kaisertown</td>\n",
       "      <td>-78.801</td>\n",
       "      <td>42.872</td>\n",
       "      <td>14206</td>\n",
       "      <td>ROBBERY</td>\n",
       "    </tr>\n",
       "    <tr>\n",
       "      <th>1</th>\n",
       "      <td>2022</td>\n",
       "      <td>12</td>\n",
       "      <td>20</td>\n",
       "      <td>2</td>\n",
       "      <td>3</td>\n",
       "      <td>Seneca Babcock</td>\n",
       "      <td>-78.820</td>\n",
       "      <td>42.872</td>\n",
       "      <td>14206</td>\n",
       "      <td>ASSAULT</td>\n",
       "    </tr>\n",
       "    <tr>\n",
       "      <th>2</th>\n",
       "      <td>2021</td>\n",
       "      <td>11</td>\n",
       "      <td>29</td>\n",
       "      <td>1</td>\n",
       "      <td>10</td>\n",
       "      <td>North Park</td>\n",
       "      <td>-78.868</td>\n",
       "      <td>42.947</td>\n",
       "      <td>14216</td>\n",
       "      <td>LARCENY/THEFT</td>\n",
       "    </tr>\n",
       "    <tr>\n",
       "      <th>3</th>\n",
       "      <td>2010</td>\n",
       "      <td>5</td>\n",
       "      <td>8</td>\n",
       "      <td>6</td>\n",
       "      <td>16</td>\n",
       "      <td>Central</td>\n",
       "      <td>-78.878</td>\n",
       "      <td>42.887</td>\n",
       "      <td>14202</td>\n",
       "      <td>ASSAULT</td>\n",
       "    </tr>\n",
       "    <tr>\n",
       "      <th>4</th>\n",
       "      <td>2009</td>\n",
       "      <td>9</td>\n",
       "      <td>1</td>\n",
       "      <td>2</td>\n",
       "      <td>22</td>\n",
       "      <td>Lower West Side</td>\n",
       "      <td>-78.883</td>\n",
       "      <td>42.892</td>\n",
       "      <td>14201</td>\n",
       "      <td>ROBBERY</td>\n",
       "    </tr>\n",
       "  </tbody>\n",
       "</table>\n",
       "</div>"
      ],
      "text/plain": [
       "   Year  Month  Day  WeekDay  Hour     Neighborhood  Latitude  Longitude  \\\n",
       "0  2010     12   31        5    17       Kaisertown   -78.801     42.872   \n",
       "1  2022     12   20        2     3   Seneca Babcock   -78.820     42.872   \n",
       "2  2021     11   29        1    10       North Park   -78.868     42.947   \n",
       "3  2010      5    8        6    16          Central   -78.878     42.887   \n",
       "4  2009      9    1        2    22  Lower West Side   -78.883     42.892   \n",
       "\n",
       "  Zip_Code  Incident_Type  \n",
       "0    14206        ROBBERY  \n",
       "1    14206        ASSAULT  \n",
       "2    14216  LARCENY/THEFT  \n",
       "3    14202        ASSAULT  \n",
       "4    14201        ROBBERY  "
      ]
     },
     "execution_count": 6,
     "metadata": {},
     "output_type": "execute_result"
    }
   ],
   "source": [
    "normalized_db_filename = \"normalized.db\"\n",
    "normalized_conn = create_connection(normalized_db_filename)\n",
    "\n",
    "get_incidents_sql = \n",
    "\"\"\"\n",
    "    SELECT\n",
    "        CAST(strftime('%Y', Datetime) AS INTEGER) Year,\n",
    "        CAST(strftime('%m', Datetime) AS INTEGER) Month,\n",
    "        CAST(strftime('%d', Datetime) AS INTEGER) Day,\n",
    "        CAST(strftime('%w', Datetime) AS INTEGER) WeekDay,\n",
    "        CAST(strftime('%H', Datetime) AS INTEGER) Hour,\n",
    "        Neighborhood,\n",
    "        Latitude,\n",
    "        Longitude,\n",
    "        Zip_Code,\n",
    "        Incident_Type\n",
    "    FROM\n",
    "        Incidents\n",
    "        INNER JOIN Location ON Location.Location_ID = Incidents.Location_ID\n",
    "\"\"\"\n",
    "\n",
    "incident_rows = execute_sql_statement(get_incidents_sql,normalized_conn)\n",
    "\n",
    "df = pd.read_sql_query(get_incidents_sql, normalized_conn)\n",
    "df.head()"
   ]
  },
  {
   "cell_type": "markdown",
   "id": "55174c84",
   "metadata": {},
   "source": [
    "## Data Summary"
   ]
  },
  {
   "cell_type": "code",
   "execution_count": 26,
   "id": "8c4ba5b5",
   "metadata": {},
   "outputs": [
    {
     "name": "stdout",
     "output_type": "stream",
     "text": [
      "<class 'pandas.core.frame.DataFrame'>\n",
      "RangeIndex: 295332 entries, 0 to 295331\n",
      "Data columns (total 10 columns):\n",
      " #   Column         Non-Null Count   Dtype  \n",
      "---  ------         --------------   -----  \n",
      " 0   Year           295332 non-null  int64  \n",
      " 1   Month          295332 non-null  int64  \n",
      " 2   Day            295332 non-null  int64  \n",
      " 3   WeekDay        295332 non-null  int64  \n",
      " 4   Hour           295332 non-null  int64  \n",
      " 5   Neighborhood   295332 non-null  object \n",
      " 6   Latitude       295332 non-null  float64\n",
      " 7   Longitude      295332 non-null  float64\n",
      " 8   Zip_Code       295332 non-null  object \n",
      " 9   Incident_Type  295332 non-null  object \n",
      "dtypes: float64(2), int64(5), object(3)\n",
      "memory usage: 22.5+ MB\n"
     ]
    }
   ],
   "source": [
    "df.info()"
   ]
  },
  {
   "cell_type": "code",
   "execution_count": 25,
   "id": "a934d887",
   "metadata": {},
   "outputs": [
    {
     "data": {
      "text/html": [
       "<div>\n",
       "<style scoped>\n",
       "    .dataframe tbody tr th:only-of-type {\n",
       "        vertical-align: middle;\n",
       "    }\n",
       "\n",
       "    .dataframe tbody tr th {\n",
       "        vertical-align: top;\n",
       "    }\n",
       "\n",
       "    .dataframe thead th {\n",
       "        text-align: right;\n",
       "    }\n",
       "</style>\n",
       "<table border=\"1\" class=\"dataframe\">\n",
       "  <thead>\n",
       "    <tr style=\"text-align: right;\">\n",
       "      <th></th>\n",
       "      <th>Year</th>\n",
       "      <th>Month</th>\n",
       "      <th>Day</th>\n",
       "      <th>WeekDay</th>\n",
       "      <th>Hour</th>\n",
       "      <th>Latitude</th>\n",
       "      <th>Longitude</th>\n",
       "    </tr>\n",
       "  </thead>\n",
       "  <tbody>\n",
       "    <tr>\n",
       "      <th>count</th>\n",
       "      <td>295332.000000</td>\n",
       "      <td>295332.000000</td>\n",
       "      <td>295332.000000</td>\n",
       "      <td>295332.000000</td>\n",
       "      <td>295332.000000</td>\n",
       "      <td>295332.000000</td>\n",
       "      <td>295332.000000</td>\n",
       "    </tr>\n",
       "    <tr>\n",
       "      <th>mean</th>\n",
       "      <td>2013.501585</td>\n",
       "      <td>6.806811</td>\n",
       "      <td>15.658036</td>\n",
       "      <td>3.045542</td>\n",
       "      <td>11.821503</td>\n",
       "      <td>-78.849818</td>\n",
       "      <td>42.911668</td>\n",
       "    </tr>\n",
       "    <tr>\n",
       "      <th>std</th>\n",
       "      <td>5.001358</td>\n",
       "      <td>3.290087</td>\n",
       "      <td>8.885851</td>\n",
       "      <td>2.011255</td>\n",
       "      <td>7.432234</td>\n",
       "      <td>0.031288</td>\n",
       "      <td>0.028286</td>\n",
       "    </tr>\n",
       "    <tr>\n",
       "      <th>min</th>\n",
       "      <td>1910.000000</td>\n",
       "      <td>1.000000</td>\n",
       "      <td>1.000000</td>\n",
       "      <td>0.000000</td>\n",
       "      <td>0.000000</td>\n",
       "      <td>-78.910000</td>\n",
       "      <td>42.828000</td>\n",
       "    </tr>\n",
       "    <tr>\n",
       "      <th>25%</th>\n",
       "      <td>2009.000000</td>\n",
       "      <td>4.000000</td>\n",
       "      <td>8.000000</td>\n",
       "      <td>1.000000</td>\n",
       "      <td>5.000000</td>\n",
       "      <td>-78.878000</td>\n",
       "      <td>42.893000</td>\n",
       "    </tr>\n",
       "    <tr>\n",
       "      <th>50%</th>\n",
       "      <td>2013.000000</td>\n",
       "      <td>7.000000</td>\n",
       "      <td>16.000000</td>\n",
       "      <td>3.000000</td>\n",
       "      <td>13.000000</td>\n",
       "      <td>-78.849000</td>\n",
       "      <td>42.913000</td>\n",
       "    </tr>\n",
       "    <tr>\n",
       "      <th>75%</th>\n",
       "      <td>2017.000000</td>\n",
       "      <td>10.000000</td>\n",
       "      <td>23.000000</td>\n",
       "      <td>5.000000</td>\n",
       "      <td>18.000000</td>\n",
       "      <td>-78.821000</td>\n",
       "      <td>42.935000</td>\n",
       "    </tr>\n",
       "    <tr>\n",
       "      <th>max</th>\n",
       "      <td>2023.000000</td>\n",
       "      <td>12.000000</td>\n",
       "      <td>31.000000</td>\n",
       "      <td>6.000000</td>\n",
       "      <td>23.000000</td>\n",
       "      <td>-78.799000</td>\n",
       "      <td>42.966000</td>\n",
       "    </tr>\n",
       "  </tbody>\n",
       "</table>\n",
       "</div>"
      ],
      "text/plain": [
       "                Year          Month            Day        WeekDay  \\\n",
       "count  295332.000000  295332.000000  295332.000000  295332.000000   \n",
       "mean     2013.501585       6.806811      15.658036       3.045542   \n",
       "std         5.001358       3.290087       8.885851       2.011255   \n",
       "min      1910.000000       1.000000       1.000000       0.000000   \n",
       "25%      2009.000000       4.000000       8.000000       1.000000   \n",
       "50%      2013.000000       7.000000      16.000000       3.000000   \n",
       "75%      2017.000000      10.000000      23.000000       5.000000   \n",
       "max      2023.000000      12.000000      31.000000       6.000000   \n",
       "\n",
       "                Hour       Latitude      Longitude  \n",
       "count  295332.000000  295332.000000  295332.000000  \n",
       "mean       11.821503     -78.849818      42.911668  \n",
       "std         7.432234       0.031288       0.028286  \n",
       "min         0.000000     -78.910000      42.828000  \n",
       "25%         5.000000     -78.878000      42.893000  \n",
       "50%        13.000000     -78.849000      42.913000  \n",
       "75%        18.000000     -78.821000      42.935000  \n",
       "max        23.000000     -78.799000      42.966000  "
      ]
     },
     "execution_count": 25,
     "metadata": {},
     "output_type": "execute_result"
    }
   ],
   "source": [
    "df.describe()"
   ]
  },
  {
   "cell_type": "code",
   "execution_count": 90,
   "id": "3f8192fa",
   "metadata": {
    "scrolled": true
   },
   "outputs": [
    {
     "data": {
      "image/png": "[encoded data removed]",
      "text/plain": [
       "<Figure size 720x720 with 4 Axes>"
      ]
     },
     "metadata": {
      "needs_background": "light"
     },
     "output_type": "display_data"
    },
    {
     "data": {
      "image/png": "[encoded data removed]",
      "text/plain": [
       "<Figure size 1152x216 with 1 Axes>"
      ]
     },
     "metadata": {
      "needs_background": "light"
     },
     "output_type": "display_data"
    },
    {
     "data": {
      "image/png": "[encoded data removed]",
      "text/plain": [
       "<Figure size 1080x216 with 1 Axes>"
      ]
     },
     "metadata": {
      "needs_background": "light"
     },
     "output_type": "display_data"
    }
   ],
   "source": [
    "plt.figure(figsize=(10,10))\n",
    "\n",
    "# Create a histogram for the 'Year' column\n",
    "plt.subplot(3,2,1)\n",
    "plt.hist(df['Year'], bins=24, edgecolor='black')\n",
    "plt.title('Distribution of Incidents by Year')\n",
    "plt.xlabel('Year')\n",
    "plt.ylabel('Number of Incidents')\n",
    "\n",
    "# Create a histogram for the 'Hour' column\n",
    "plt.subplot(3,2,2)\n",
    "plt.hist(df['Hour'], bins=24, edgecolor='black')\n",
    "plt.title('Distribution of Incidents by Hour')\n",
    "plt.xlabel('Hour of the Day')\n",
    "plt.ylabel('Number of Incidents')\n",
    "\n",
    "# Create a histogram for the 'Month' column\n",
    "plt.subplot(3,2,3)\n",
    "plt.hist(df['Month'], bins=24, edgecolor='black')\n",
    "plt.title('Distribution of Incidents by Month')\n",
    "plt.xlabel('Month')\n",
    "plt.ylabel('Number of Incidents')\n",
    "\n",
    "# Create a histogram for the 'Day' column\n",
    "plt.subplot(3,2,4)\n",
    "plt.hist(df['Day'], bins=24, edgecolor='black')\n",
    "plt.title('Distribution of Incidents by Day')\n",
    "plt.xlabel('Day of Week')\n",
    "plt.ylabel('Number of Incidents')\n",
    "\n",
    "plt.tight_layout()\n",
    "\n",
    "# Create a histogram for the 'Zip_Code' column\n",
    "plt.figure(figsize=(16,3))\n",
    "plt.hist(df['Zip_Code'], bins=24, edgecolor='black')\n",
    "plt.title('Distribution of Incidents by Zip_Code')\n",
    "plt.xlabel('Zip_Code of Data')\n",
    "plt.ylabel('Number of Incidents')\n",
    "plt.show()\n",
    "\n",
    "# Create a histogram for the 'Incident_Type' column\n",
    "plt.figure(figsize=(15,3))\n",
    "plt.hist(df['Incident_Type'], bins=24, edgecolor='black')\n",
    "plt.title('Distribution of Incidents by Incident_Type')\n",
    "plt.xlabel('Incident_Type of Data')\n",
    "plt.ylabel('Number of Incidents')\n",
    "plt.show()"
   ]
  },
  {
   "cell_type": "markdown",
   "id": "709a1c75",
   "metadata": {},
   "source": [
    "## Random Forest"
   ]
  },
  {
   "cell_type": "code",
   "execution_count": 92,
   "id": "112ad32a",
   "metadata": {
    "scrolled": true
   },
   "outputs": [
    {
     "data": {
      "text/html": [
       "<div>\n",
       "<style scoped>\n",
       "    .dataframe tbody tr th:only-of-type {\n",
       "        vertical-align: middle;\n",
       "    }\n",
       "\n",
       "    .dataframe tbody tr th {\n",
       "        vertical-align: top;\n",
       "    }\n",
       "\n",
       "    .dataframe thead th {\n",
       "        text-align: right;\n",
       "    }\n",
       "</style>\n",
       "<table border=\"1\" class=\"dataframe\">\n",
       "  <thead>\n",
       "    <tr style=\"text-align: right;\">\n",
       "      <th></th>\n",
       "      <th>Year</th>\n",
       "      <th>Month</th>\n",
       "      <th>Day</th>\n",
       "      <th>WeekDay</th>\n",
       "      <th>Hour</th>\n",
       "      <th>Neighborhood</th>\n",
       "      <th>Latitude</th>\n",
       "      <th>Longitude</th>\n",
       "      <th>Zip_Code</th>\n",
       "      <th>Incident_Type</th>\n",
       "    </tr>\n",
       "  </thead>\n",
       "  <tbody>\n",
       "    <tr>\n",
       "      <th>15</th>\n",
       "      <td>2023</td>\n",
       "      <td>5</td>\n",
       "      <td>15</td>\n",
       "      <td>1</td>\n",
       "      <td>22</td>\n",
       "      <td>South Park</td>\n",
       "      <td>-78.822</td>\n",
       "      <td>42.843</td>\n",
       "      <td>14220</td>\n",
       "      <td>ASSAULT</td>\n",
       "    </tr>\n",
       "    <tr>\n",
       "      <th>31</th>\n",
       "      <td>2023</td>\n",
       "      <td>1</td>\n",
       "      <td>6</td>\n",
       "      <td>5</td>\n",
       "      <td>20</td>\n",
       "      <td>Hamlin Park</td>\n",
       "      <td>-78.847</td>\n",
       "      <td>42.916</td>\n",
       "      <td>14208</td>\n",
       "      <td>LARCENY/THEFT</td>\n",
       "    </tr>\n",
       "    <tr>\n",
       "      <th>143</th>\n",
       "      <td>2023</td>\n",
       "      <td>4</td>\n",
       "      <td>2</td>\n",
       "      <td>0</td>\n",
       "      <td>14</td>\n",
       "      <td>Schiller Park</td>\n",
       "      <td>-78.805</td>\n",
       "      <td>42.907</td>\n",
       "      <td>14211</td>\n",
       "      <td>UUV</td>\n",
       "    </tr>\n",
       "    <tr>\n",
       "      <th>156</th>\n",
       "      <td>2023</td>\n",
       "      <td>4</td>\n",
       "      <td>8</td>\n",
       "      <td>6</td>\n",
       "      <td>3</td>\n",
       "      <td>Schiller Park</td>\n",
       "      <td>-78.804</td>\n",
       "      <td>42.917</td>\n",
       "      <td>14211</td>\n",
       "      <td>RAPE</td>\n",
       "    </tr>\n",
       "    <tr>\n",
       "      <th>187</th>\n",
       "      <td>2023</td>\n",
       "      <td>5</td>\n",
       "      <td>23</td>\n",
       "      <td>2</td>\n",
       "      <td>7</td>\n",
       "      <td>North Park</td>\n",
       "      <td>-78.862</td>\n",
       "      <td>42.944</td>\n",
       "      <td>14216</td>\n",
       "      <td>BURGLARY</td>\n",
       "    </tr>\n",
       "  </tbody>\n",
       "</table>\n",
       "</div>"
      ],
      "text/plain": [
       "     Year  Month  Day  WeekDay  Hour   Neighborhood  Latitude  Longitude  \\\n",
       "15   2023      5   15        1    22     South Park   -78.822     42.843   \n",
       "31   2023      1    6        5    20    Hamlin Park   -78.847     42.916   \n",
       "143  2023      4    2        0    14  Schiller Park   -78.805     42.907   \n",
       "156  2023      4    8        6     3  Schiller Park   -78.804     42.917   \n",
       "187  2023      5   23        2     7     North Park   -78.862     42.944   \n",
       "\n",
       "    Zip_Code  Incident_Type  \n",
       "15     14220        ASSAULT  \n",
       "31     14208  LARCENY/THEFT  \n",
       "143    14211            UUV  \n",
       "156    14211           RAPE  \n",
       "187    14216       BURGLARY  "
      ]
     },
     "execution_count": 92,
     "metadata": {},
     "output_type": "execute_result"
    }
   ],
   "source": [
    "df_2023=df[df['Year']==2023] # get only 2023 data\n",
    "df_2023.head()"
   ]
  },
  {
   "cell_type": "markdown",
   "id": "e5d30605",
   "metadata": {},
   "source": [
    "### Find Best `n_estimators` (5-Fold Cross-Validation)"
   ]
  },
  {
   "cell_type": "code",
   "execution_count": 99,
   "id": "56011c81",
   "metadata": {},
   "outputs": [],
   "source": [
    "# split into predictors X and response y\n",
    "X=df_2023[['Month','Day','WeekDay','Hour','Latitude','Longitude','Neighborhood','Zip_Code']]\n",
    "X=pd.get_dummies(X) # one-hot encode categorical variables\n",
    "y=np.array(df_2023[['Incident_Type']]).ravel()\n",
    "\n",
    "scores = {}\n",
    "\n",
    "n_values=range(1,101,10)\n",
    "\n",
    "# perform 5-fold cross validation on increasing n_trees\n",
    "for n in n_values:\n",
    "    rf = RandomForestClassifier(n_estimators=n,random_state=42)\n",
    "    score = cross_val_score(rf, X, y, cv=5)\n",
    "    scores[n]=np.mean(score)"
   ]
  },
  {
   "cell_type": "code",
   "execution_count": 97,
   "id": "7a9cd48e",
   "metadata": {
    "scrolled": false
   },
   "outputs": [
    {
     "name": "stdout",
     "output_type": "stream",
     "text": [
      "The best model uses 81 trees.\n"
     ]
    },
    {
     "data": {
      "image/png": "[encoded data removed]",
      "text/plain": [
       "<Figure size 432x288 with 1 Axes>"
      ]
     },
     "metadata": {
      "needs_background": "light"
     },
     "output_type": "display_data"
    }
   ],
   "source": [
    "plt.plot(scores.keys(),scores.values(),'o-') \n",
    "plt.plot(max(scores, key=scores.get),max(scores.values()),'o',color='r') # plot max\n",
    "plt.xlabel('n_estimators')\n",
    "plt.ylabel('Accuracy')\n",
    "plt.title('n_estimators vs Accuracy (5-Fold)')\n",
    "\n",
    "print(f'The best model uses {max(scores, key=scores.get)} trees.')"
   ]
  },
  {
   "cell_type": "markdown",
   "id": "dd2c7ecf",
   "metadata": {},
   "source": [
    "### Train Model with `n_estimators` = 81"
   ]
  },
  {
   "cell_type": "code",
   "execution_count": 100,
   "id": "c2557468",
   "metadata": {},
   "outputs": [],
   "source": [
    "# split into predictors X and response y\n",
    "X=df_2023[['Month','Day','WeekDay','Hour','Latitude','Longitude','Neighborhood','Zip_Code']]\n",
    "X=pd.get_dummies(X) # one-hot encode categorical variables\n",
    "y=df_2023['Incident_Type']\n",
    "\n",
    "# 80/20 train/test\n",
    "X_train, X_test, y_train, y_test = train_test_split(X, y, test_size=0.20, random_state=42)\n",
    "\n",
    "# create model\n",
    "rf = RandomForestClassifier(n_estimators=81,random_state=42)\n",
    "rf.fit(X_train,y_train)\n",
    "\n",
    "# get prediction\n",
    "pred = rf.predict(X_test)"
   ]
  },
  {
   "cell_type": "markdown",
   "id": "16130e56",
   "metadata": {},
   "source": [
    "### Feature Importance"
   ]
  },
  {
   "cell_type": "code",
   "execution_count": 105,
   "id": "8938dca8",
   "metadata": {
    "scrolled": false
   },
   "outputs": [
    {
     "data": {
      "image/png": "[encoded data removed]",
      "text/plain": [
       "<Figure size 720x288 with 1 Axes>"
      ]
     },
     "metadata": {
      "needs_background": "light"
     },
     "output_type": "display_data"
    }
   ],
   "source": [
    "importances=rf.feature_importances_\n",
    "importances_dict=dict(zip(rf.feature_names_in_,importances)) # encoded feature importance\n",
    "importances_dict_compressed={} # decoded feature importance\n",
    "for key,value in importances_dict.items():\n",
    "    if 'Neighborhood' in key:\n",
    "        importances_dict_compressed['Neighborhood']=importances_dict_compressed.get('Neighborhood',0)+value\n",
    "    elif 'Zip_Code' in key:\n",
    "        importances_dict_compressed['Zip_Code']=importances_dict_compressed.get('Zip_Code',0)+value\n",
    "    else:\n",
    "        importances_dict_compressed[key]=value\n",
    "        \n",
    "plt.figure(figsize=(10,4))\n",
    "plt.bar(importances_dict_compressed.keys(), importances_dict_compressed.values())\n",
    "plt.title('Feature Importance (by Gini Impurity)')\n",
    "plt.show()"
   ]
  },
  {
   "cell_type": "markdown",
   "id": "0c5e68c5",
   "metadata": {},
   "source": [
    "### Confusion Matrix"
   ]
  },
  {
   "cell_type": "code",
   "execution_count": 106,
   "id": "ce0d6a6f",
   "metadata": {},
   "outputs": [
    {
     "data": {
      "image/png": "[encoded data removed]",
      "text/plain": [
       "<Figure size 432x288 with 2 Axes>"
      ]
     },
     "metadata": {
      "needs_background": "light"
     },
     "output_type": "display_data"
    }
   ],
   "source": [
    "cm = confusion_matrix(y_test, pred)\n",
    "\n",
    "ConfusionMatrixDisplay(cm,display_labels=[\"A\", \"B\", \"L/T\", \"M\", \"RAPE\", \"R\", \"SA\", \"TOS\", \"UUV\"]).plot()\n",
    "plt.title('Confusion Matrix for Incident Type')\n",
    "plt.show()"
   ]
  },
  {
   "cell_type": "markdown",
   "id": "753ef2b3",
   "metadata": {},
   "source": [
    "### Performance Metrics"
   ]
  },
  {
   "cell_type": "code",
   "execution_count": 107,
   "id": "80389cf2",
   "metadata": {},
   "outputs": [
    {
     "name": "stdout",
     "output_type": "stream",
     "text": [
      "                   precision    recall  f1-score   support\n",
      "\n",
      "          ASSAULT       0.27      0.16      0.20       356\n",
      "         BURGLARY       0.32      0.10      0.15       246\n",
      "    LARCENY/THEFT       0.51      0.70      0.59       958\n",
      "           MURDER       0.00      0.00       nan        10\n",
      "             RAPE       0.00      0.00       nan        26\n",
      "          ROBBERY       0.07      0.01      0.02        75\n",
      "     SEXUAL ABUSE       0.00      0.00       nan        24\n",
      "THEFT OF SERVICES        nan      0.00       nan        18\n",
      "              UUV       0.46      0.51      0.48       657\n",
      "\n",
      "         accuracy                           0.46      2370\n",
      "        macro avg       0.20      0.17      0.29      2370\n",
      "     weighted avg       0.41      0.46      0.43      2370\n",
      "\n"
     ]
    }
   ],
   "source": [
    "print(classification_report(y_test,pred,zero_division=np.nan))"
   ]
  },
  {
   "cell_type": "code",
   "execution_count": null,
   "id": "62e3d2d4",
   "metadata": {},
   "outputs": [],
   "source": [
    "normalized_conn.close()"
   ]
  }
 ],
 "metadata": {
  "kernelspec": {
   "display_name": "Python 3 (ipykernel)",
   "language": "python",
   "name": "python3"
  },
  "language_info": {
   "codemirror_mode": {
    "name": "ipython",
    "version": 3
   },
   "file_extension": ".py",
   "mimetype": "text/x-python",
   "name": "python",
   "nbconvert_exporter": "python",
   "pygments_lexer": "ipython3",
   "version": "3.9.7"
  }
 },
 "nbformat": 4,
 "nbformat_minor": 5
}
